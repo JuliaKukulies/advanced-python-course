{
 "cells": [
  {
   "cell_type": "markdown",
   "metadata": {},
   "source": [
    "## Test script for animal package \n",
    "\n",
    "\n",
    "Created by **Julia Kukulies**"
   ]
  },
  {
   "cell_type": "code",
   "execution_count": 2,
   "metadata": {},
   "outputs": [],
   "source": [
    "import animals\n"
   ]
  },
  {
   "cell_type": "code",
   "execution_count": 2,
   "metadata": {},
   "outputs": [
    {
     "name": "stdout",
     "output_type": "stream",
     "text": [
      "Printing members of the Mammals class\n",
      "\tTiger\n",
      "\tElephant\n",
      "\tWild Cat\n",
      "Printing members of the Birds class:\n",
      "\tSparrow\n",
      "\tRobin\n",
      "\tDuck \n",
      "Printing members of the Fish class\n",
      "\tGold fish \n",
      "\tGuppy\n",
      "\tBlue fish\n"
     ]
    }
   ],
   "source": [
    "m = animals.Mammals()\n",
    "m.printMembers()\n",
    "\n",
    "b = animals.Birds()\n",
    "b.printMembers()\n",
    "\n",
    "f = animals.Fish()\n",
    "f.printMembers()"
   ]
  },
  {
   "cell_type": "markdown",
   "metadata": {},
   "source": [
    "# 1g. Adding new packages harmless and dangerous:"
   ]
  },
  {
   "cell_type": "code",
   "execution_count": 3,
   "metadata": {},
   "outputs": [],
   "source": [
    "import animals"
   ]
  },
  {
   "cell_type": "code",
   "execution_count": 4,
   "metadata": {},
   "outputs": [
    {
     "name": "stdout",
     "output_type": "stream",
     "text": [
      "Printing members of the Birds class:\n",
      "\tOwl\n",
      "\tHummingbird\n",
      "\tParrot\n",
      "Printing members of the Birds class:\n",
      "\tLammergeier\n",
      "\tEmu\n",
      "\tEagle\n",
      "Printing members of the Fish class\n",
      "\tGold fish  \n",
      "\tGuppy\n",
      "\tBlue fish\n",
      "Printing members of the Fish class\n",
      "\tPuffer fish  \n",
      "\tPiranha\n",
      "\tJelly fish\n"
     ]
    }
   ],
   "source": [
    "harmless_birds = animals.harmless.Birds()\n",
    "harmless_birds.printMembers()\n",
    "\n",
    "harmless_birds = animals.dangerous.Birds()\n",
    "harmless_birds.printMembers()\n",
    "\n",
    "\n",
    "harmless_birds = animals.harmless.Fish()\n",
    "harmless_birds.printMembers()\n",
    "\n",
    "\n",
    "dangerous_fish = animals.dangerous.Fish()\n",
    "dangerous_fish.printMembers()"
   ]
  }
 ],
 "metadata": {
  "kernelspec": {
   "display_name": "Python 3",
   "language": "python",
   "name": "python3"
  },
  "language_info": {
   "codemirror_mode": {
    "name": "ipython",
    "version": 3
   },
   "file_extension": ".py",
   "mimetype": "text/x-python",
   "name": "python",
   "nbconvert_exporter": "python",
   "pygments_lexer": "ipython3",
   "version": "3.6.7"
  }
 },
 "nbformat": 4,
 "nbformat_minor": 2
}
